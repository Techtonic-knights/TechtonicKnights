{
 "cells": [
  {
   "cell_type": "markdown",
   "id": "f6d27e89-f743-4af0-8d5f-118431132638",
   "metadata": {},
   "source": [
    "# Build a QA RAG chain using langchain"
   ]
  },
  {
   "cell_type": "markdown",
   "id": "b3e35974-2cca-4a75-af5d-c73059b5edad",
   "metadata": {},
   "source": [
    "## Install necessary dependencies/libraries"
   ]
  },
  {
   "cell_type": "code",
   "execution_count": null,
   "id": "982345ec-31ba-4413-b26c-8c48491dbb5c",
   "metadata": {},
   "outputs": [],
   "source": [
    "!pip install -qU langchain langchain-openai langchain-community langchain-text-splitters youtube_transcript_api faiss-cpu google-api-python-client"
   ]
  },
  {
   "cell_type": "code",
   "execution_count": null,
   "id": "a2c2f93e-3cb8-4a01-8ecc-8042284bf6b5",
   "metadata": {},
   "outputs": [],
   "source": [
    "from langchain_core.output_parsers import StrOutputParser\n",
    "from langchain_core.runnables import RunnablePassthrough\n",
    "from langchain_text_splitters import RecursiveCharacterTextSplitter, CharacterTextSplitter\n",
    "from youtube_transcript_api import YouTubeTranscriptApi\n",
    "from youtube_transcript_api.formatters import JSONFormatter\n",
    "import json\n",
    "from langchain_community.vectorstores import FAISS\n",
    "from langchain_openai import OpenAIEmbeddings\n",
    "from langchain_core.prompts import PromptTemplate\n",
    "from langchain_openai import ChatOpenAI"
   ]
  },
  {
   "cell_type": "markdown",
   "id": "526b547d-e1a6-43f9-a36b-490f1298c349",
   "metadata": {},
   "source": [
    "## Load open AI api key and google api key"
   ]
  },
  {
   "cell_type": "code",
   "execution_count": null,
   "id": "d7c5db6b-8076-4fce-a099-ce3245a6b0e1",
   "metadata": {},
   "outputs": [],
   "source": [
    "import getpass\n",
    "import os\n",
    "\n",
    "os.environ[\"OPENAI_API_KEY\"] = getpass.getpass()\n"
   ]
  },
  {
   "cell_type": "code",
   "execution_count": null,
   "id": "a8103cdc-0c44-4e9e-a44a-81a268de53f9",
   "metadata": {},
   "outputs": [],
   "source": [
    "os.environ[\"api_key\"] = getpass.getpass()\n"
   ]
  },
  {
   "cell_type": "code",
   "execution_count": null,
   "id": "f3e6c522-08eb-43f2-a456-0d151f5d7244",
   "metadata": {},
   "outputs": [],
   "source": [
    "from googleapiclient.discovery import build\n",
    "import os\n",
    "\n",
    "youtube = build(\"youtube\", \"v3\", developerKey=os.getenv(\"api_key\"))\n",
    "\n",
    "def get_video_ids_from_playlist(playlist_id):\n",
    "    video_ids = []\n",
    "    next_page_token = None\n",
    "\n",
    "    while True:\n",
    "        request = youtube.playlistItems().list(\n",
    "            part=\"snippet\",\n",
    "            playlistId=playlist_id,\n",
    "            maxResults=50, \n",
    "            pageToken=next_page_token\n",
    "        )\n",
    "        response = request.execute()\n",
    "\n",
    "        for item in response[\"items\"]:\n",
    "            video_ids.append(item[\"snippet\"][\"resourceId\"][\"videoId\"])\n",
    "\n",
    "        next_page_token = response.get(\"nextPageToken\")\n",
    "\n",
    "        if not next_page_token:\n",
    "            break\n",
    "\n",
    "    return video_ids"
   ]
  },
  {
   "cell_type": "markdown",
   "id": "e5469a36-14e4-421d-9ea8-680e6cae2e19",
   "metadata": {},
   "source": [
    "## Provide a playlist/ multiple playlist ids to retrieve their video ids"
   ]
  },
  {
   "cell_type": "code",
   "execution_count": null,
   "id": "42cc1f51-315e-49b0-8c21-92f83d426521",
   "metadata": {},
   "outputs": [],
   "source": [
    "playlist_ids = [\"PL2yQDdvlhXf_aPLMfxECsw-UIbEg6uy42\"]\n",
    "video_ids = []\n",
    "for playlist in playlist_ids:\n",
    "    video_ids.extend(get_video_ids_from_playlist(playlist))\n"
   ]
  },
  {
   "cell_type": "code",
   "execution_count": null,
   "id": "c7383c1e-b142-4bd6-b186-6605c8ea63a4",
   "metadata": {},
   "outputs": [],
   "source": [
    "video_ids"
   ]
  },
  {
   "cell_type": "markdown",
   "id": "38631c33-f668-4455-86aa-f4cacd72aed4",
   "metadata": {},
   "source": [
    "## Process video transcripts:\n",
    "\n",
    "```json\n",
    "[\n",
    "    {\n",
    "        \"video_id\": \"aim5x73crbM\",\n",
    "        \"transcript\": [\n",
    "            {\n",
    "                \"text\": \"[MUSIC]\",\n",
    "                \"start\": 0.3,\n",
    "                \"duration\": 1.968\n",
    "            },\n",
    "            {\n",
    "                \"text\": \"TAKE ONE AND ACTION WERNER.\\nTODAY WE ARE EXPLORING THE\",\n",
    "                \"start\": 2.268,\n",
    "                \"duration\": 6.24\n",
    "            }\n",
    "        ]\n",
    "    }\n",
    "]\n",
    "\n"
   ]
  },
  {
   "cell_type": "code",
   "execution_count": null,
   "id": "b557e31e-2686-4dd9-80b7-1f0e51fd0cf9",
   "metadata": {},
   "outputs": [],
   "source": [
    "formatter = JSONFormatter()\n",
    "aws_reinvent_genai_transcripts = []\n",
    "\n",
    "def process_video_transcripts(video_id):\n",
    "    try:\n",
    "        transcript = YouTubeTranscriptApi.get_transcript(video_id)       \n",
    "        formatted_transcript = formatter.format_transcript(transcript)\n",
    "                                        \n",
    "        aws_reinvent_genai_transcripts.append({\n",
    "            \"video_id\": video_id,\n",
    "            \"transcript\": json.loads(formatted_transcript )\n",
    "        })\n",
    "    \n",
    "    except Exception as e:\n",
    "        print(f\"Failed to retrieve transcript for {video_id}: {e}\")\n",
    "\n",
    "    return aws_reinvent_genai_transcripts"
   ]
  },
  {
   "cell_type": "code",
   "execution_count": null,
   "id": "ee608982-d994-45c4-8085-17a0f8cc21cb",
   "metadata": {},
   "outputs": [],
   "source": [
    "for video in video_ids:\n",
    "    process_video_transcripts(video)\n",
    "    \n",
    "formatted_aws_reinvent_genai_transcripts = json.dumps(aws_reinvent_genai_transcripts)\n",
    "print(formatted_aws_reinvent_genai_transcripts)"
   ]
  },
  {
   "cell_type": "markdown",
   "id": "dac78828-d170-4279-8862-cf1cfcc1d60d",
   "metadata": {},
   "source": [
    "## Split the documents into chunks"
   ]
  },
  {
   "cell_type": "code",
   "execution_count": null,
   "id": "acbcb281-149b-4f2f-93ee-5f88ba9bffc1",
   "metadata": {},
   "outputs": [],
   "source": [
    "def process_documents(transcript_data):\n",
    "    full_transcript = \" \".join([entry['text'] for entry in transcript_data['transcript']])\n",
    "\n",
    "    text_splitter = CharacterTextSplitter(\n",
    "    separator=\" \",\n",
    "    chunk_size=1000,\n",
    "    chunk_overlap=200,\n",
    "    length_function=len\n",
    ")\n",
    "    documents = text_splitter.create_documents([full_transcript], metadatas=[{\"video_id\": transcript_data['video_id']}])\n",
    "    return documents"
   ]
  },
  {
   "cell_type": "code",
   "execution_count": null,
   "id": "d814b41e-912f-4c08-a9f2-cd8ffd84fee3",
   "metadata": {},
   "outputs": [],
   "source": [
    "transcripts= json.loads(formatted_aws_reinvent_genai_transcripts)\n",
    "docs = []\n",
    "for transcript_data in transcripts:\n",
    "    docs.extend(process_documents(transcript_data))\n",
    "    print(len(docs))"
   ]
  },
  {
   "cell_type": "markdown",
   "id": "3bf39a3d-7b49-461b-9e56-d26952f7d38f",
   "metadata": {},
   "source": [
    "## Create embeddings and index for these chunked documents"
   ]
  },
  {
   "cell_type": "code",
   "execution_count": null,
   "id": "6c5a4b81-9903-48ed-b240-53d1b27f536f",
   "metadata": {},
   "outputs": [],
   "source": [
    "embeddings = OpenAIEmbeddings()\n",
    "faiss_index = FAISS.from_documents(docs, embeddings)"
   ]
  },
  {
   "cell_type": "code",
   "execution_count": null,
   "id": "a5ebf9c0-d72b-4889-a16e-748eb2cfa5ac",
   "metadata": {},
   "outputs": [],
   "source": [
    "retriever = faiss_index.as_retriever()"
   ]
  },
  {
   "cell_type": "code",
   "execution_count": null,
   "id": "f158f820-61a5-426f-b288-d80ad66fc9f2",
   "metadata": {},
   "outputs": [],
   "source": [
    "results = retriever.invoke(\"Who are the featured keynote speakers for AWS re:Invent 2024?\")"
   ]
  },
  {
   "cell_type": "code",
   "execution_count": null,
   "id": "6c97183a-7379-4327-835d-853daddfbea0",
   "metadata": {},
   "outputs": [],
   "source": [
    "for result in results:\n",
    "    print(f\"{result}\\n\")"
   ]
  },
  {
   "cell_type": "markdown",
   "id": "8c1305f3-d660-4321-88e0-68cba9af36bc",
   "metadata": {},
   "source": [
    "## Generate prompt template"
   ]
  },
  {
   "cell_type": "code",
   "execution_count": null,
   "id": "fd9b2d9c-c2b2-49d5-82e3-7b12fd713d65",
   "metadata": {},
   "outputs": [],
   "source": [
    "template = \"\"\"\n",
    "    You are an assistant for question-answering tasks. Use the following pieces of retrieved context to \n",
    "    answer the question. If you don't know the answer, just say that you don't know. Give 4 or 5 points  maximum \n",
    "    and keep the answer concise.\n",
    "    Question: {question} \n",
    "    Context: {context} \n",
    "    Answer:\n",
    "    \"\"\"\n",
    "prompt = PromptTemplate(\n",
    "    input_variables=[\"question\", \"context\"],\n",
    "    template=template\n",
    ")"
   ]
  },
  {
   "cell_type": "markdown",
   "id": "84e2c970-a394-4a72-9b07-31b2a9704426",
   "metadata": {},
   "source": [
    "## Define LLM and your QA chain"
   ]
  },
  {
   "cell_type": "code",
   "execution_count": null,
   "id": "531d7e1f-94ec-4863-9ed0-a15e666c921d",
   "metadata": {},
   "outputs": [],
   "source": [
    "llm = ChatOpenAI(model=\"gpt-3.5-turbo-0125\", temperature=0.7)"
   ]
  },
  {
   "cell_type": "code",
   "execution_count": null,
   "id": "11dc8479-645c-4fbe-aca5-4300f25307fb",
   "metadata": {},
   "outputs": [],
   "source": [
    "def format_docs(docs):\n",
    "    return \"\\n\\n\".join(doc.page_content for doc in docs)\n",
    "\n",
    "context = retriever\n",
    "print(f\"Context after retriever:\\n {context}\\n\")\n",
    "\n",
    "context = retriever | format_docs\n",
    "print(f\"Context after retriever and format docs:\\n {context}\")\n",
    "\n"
   ]
  },
  {
   "cell_type": "code",
   "execution_count": null,
   "id": "ed79ebf1-b91d-4182-b8e8-5de45fd78223",
   "metadata": {},
   "outputs": [],
   "source": [
    "rag_chain = (\n",
    "    {\"context\": retriever | format_docs, \"question\": RunnablePassthrough()}\n",
    "    | prompt\n",
    "    | llm\n",
    "    | StrOutputParser()\n",
    ")"
   ]
  },
  {
   "cell_type": "code",
   "execution_count": null,
   "id": "10eb7144-4c56-4c1f-b2d3-21d1ba09c2ef",
   "metadata": {},
   "outputs": [],
   "source": [
    "from IPython.display import display, HTML\n"
   ]
  },
  {
   "cell_type": "markdown",
   "id": "f2c0cc55-d423-41fb-abda-264089ea714a",
   "metadata": {},
   "source": [
    "# Start querying"
   ]
  },
  {
   "cell_type": "code",
   "execution_count": null,
   "id": "242b7597-5b21-476a-9d6c-1dcce3e8b59f",
   "metadata": {},
   "outputs": [],
   "source": [
    "from IPython.display import display, HTML\n",
    "\n",
    "while True:\n",
    "    query = input (\"Please enter your query: \")\n",
    "    display(HTML(f'<span style=\"color: yellow;font-size: 18px; font-family: Arial, sans-serif;\">\\n {query} \\n</span>'))\n",
    "    response = rag_chain.invoke(input=query)  \n",
    "    display(HTML(f'<span style=\"color: green;font-size: 18px; font-family: Arial, sans-serif; font-weight: bold;\">\\n {response} \\n</span>'))\n",
    "    if query.lower() == 'exit':\n",
    "        break\n"
   ]
  },
  {
   "cell_type": "code",
   "execution_count": null,
   "id": "aef32500-2fdf-48ea-9023-103c36b677de",
   "metadata": {},
   "outputs": [],
   "source": []
  }
 ],
 "metadata": {
  "kernelspec": {
   "display_name": "pandas",
   "language": "python",
   "name": "pandas"
  },
  "language_info": {
   "codemirror_mode": {
    "name": "ipython",
    "version": 3
   },
   "file_extension": ".py",
   "mimetype": "text/x-python",
   "name": "python",
   "nbconvert_exporter": "python",
   "pygments_lexer": "ipython3",
   "version": "3.13.0"
  }
 },
 "nbformat": 4,
 "nbformat_minor": 5
}
