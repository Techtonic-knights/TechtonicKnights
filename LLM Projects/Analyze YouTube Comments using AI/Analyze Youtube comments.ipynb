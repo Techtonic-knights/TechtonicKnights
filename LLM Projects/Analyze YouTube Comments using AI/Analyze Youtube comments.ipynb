{
 "cells": [
  {
   "cell_type": "code",
   "execution_count": null,
   "id": "f188da4f-7d9a-4eb3-9795-d51f23fe3408",
   "metadata": {},
   "outputs": [],
   "source": [
    "%pip install google-api-python-client langchain_openai langchain langchain_community pandas langchain-core langdetect"
   ]
  },
  {
   "cell_type": "markdown",
   "id": "c5b44042-4955-4870-8045-9a348ee5fccc",
   "metadata": {},
   "source": [
    "## Retrieve and Process youtube comments"
   ]
  },
  {
   "cell_type": "code",
   "execution_count": null,
   "id": "583a5692-7858-45c1-ac3f-d5698e8b2428",
   "metadata": {},
   "outputs": [],
   "source": [
    "import getpass\n",
    "import os\n",
    "\n",
    "if not os.environ.get(\"YOUTUBE_API_KEY\"):\n",
    "  os.environ[\"YOUTUBE_API_KEY\"] = getpass.getpass(\"Enter API key for Youtube Data API: \")"
   ]
  },
  {
   "cell_type": "code",
   "execution_count": null,
   "id": "ad1142f7-f101-4b0e-be96-72777e73912a",
   "metadata": {},
   "outputs": [],
   "source": [
    "from googleapiclient.discovery import build\n",
    "import json\n",
    "\n",
    "\n",
    "youtube = build('youtube', 'v3', developerKey=os.environ['YOUTUBE_API_KEY'])\n",
    "\n",
    "def get_request(video_id, pageToken=None):\n",
    "    request = youtube.commentThreads().list(\n",
    "        part='snippet',\n",
    "        videoId=video_id,\n",
    "        textFormat='plainText',\n",
    "        maxResults=100,\n",
    "        pageToken=pageToken\n",
    "    )\n",
    "    return request\n",
    "    \n",
    "def get_comments(video_id):\n",
    "    comments = []\n",
    "    pageToken = None\n",
    "    \n",
    "    while True:\n",
    "        req = get_request(video_id, pageToken)\n",
    "        try:\n",
    "            response = req.execute()\n",
    "            \n",
    "            for item in response['items']:\n",
    "                comments.append(item['snippet']['topLevelComment']['snippet']['textDisplay'])\n",
    "                if 'replies' in item:\n",
    "                    for reply in item['replies']['comments']:\n",
    "                        comments.append(reply['snippet']['textDisplay'])\n",
    "        \n",
    "            if 'nextPageToken' in response:\n",
    "                pageToken = response['nextPageToken'] \n",
    "            else:\n",
    "                break \n",
    "\n",
    "        except Exception as e:\n",
    "            print(f\"Error fetching comments: {e}\")\n",
    "            break \n",
    "    \n",
    "    return comments\n"
   ]
  },
  {
   "cell_type": "code",
   "execution_count": null,
   "id": "92962397-a931-404d-85a7-5a0ead1fb855",
   "metadata": {},
   "outputs": [],
   "source": [
    "video_id = 'OY2x0TyKzIQ'\n",
    "comments = get_comments(video_id)\n"
   ]
  },
  {
   "cell_type": "code",
   "execution_count": null,
   "id": "b587e98a-4fac-4105-993b-bfab7f85fc2f",
   "metadata": {},
   "outputs": [],
   "source": [
    "len(comments)"
   ]
  },
  {
   "cell_type": "markdown",
   "id": "cbc91ea7-4e6b-4e70-bd28-7e3e33eabfb7",
   "metadata": {},
   "source": [
    "## Using Langchain to classify the text and set the Pydantic Output Parser\n"
   ]
  },
  {
   "cell_type": "code",
   "execution_count": null,
   "id": "d12f5701-52eb-4dad-aef7-050fe5e93318",
   "metadata": {},
   "outputs": [],
   "source": [
    "import getpass\n",
    "import os\n",
    "\n",
    "if not os.environ.get(\"OPENAI_API_KEY\"):\n",
    "  os.environ[\"OPENAI_API_KEY\"] = getpass.getpass(\"Enter API key for OpenAI: \")"
   ]
  },
  {
   "cell_type": "code",
   "execution_count": null,
   "id": "00f62b79-0819-4a68-b658-2aae5b8d3629",
   "metadata": {},
   "outputs": [],
   "source": [
    "from typing import List\n",
    "from pydantic import BaseModel, Field\n",
    "\n",
    "class Classification(BaseModel):\n",
    "    pos_comments: List[str] = Field(\n",
    "        default_factory=list, \n",
    "        description=\"If the sentiment is positive, provide the actual positive comments without changing it. If the feedback is not in English, please translate it into English to ensure clarity for all users.\"\n",
    "    )\n",
    "    neg_comments: List[str] = Field(\n",
    "        default_factory=list,\n",
    "        description=\"If the sentiment is negative, provide the actual negative comments without changing it. If the feedback is not in English, please translate it into English to ensure clarity for all users.\"\n",
    "    )\n",
    "    suggestions: List[str] = Field(\n",
    "        default_factory=list,\n",
    "        description=\"If the comments involve suggestions, provide the actual comments without changing it.If the feedback is not in English, please translate it into English to ensure clarity for all users.\"\n",
    "    )"
   ]
  },
  {
   "cell_type": "code",
   "execution_count": null,
   "id": "e429ee77-8e1b-4737-9608-4056b1f816a9",
   "metadata": {},
   "outputs": [],
   "source": [
    "from langchain_openai import ChatOpenAI\n",
    "from langchain_core.prompts import ChatPromptTemplate\n",
    "\n",
    "\n",
    "tagging_prompt = ChatPromptTemplate.from_template(\n",
    "    \"\"\"\n",
    "Extract the desired information from the following comments.\n",
    "\n",
    "Only extract the properties mentioned in the 'Classification' function. If a property is not present, leave it blank.\n",
    "\n",
    "Comments:\n",
    "{comments}\n",
    "\n",
    "Classification:\n",
    "\"\"\"\n",
    ")\n",
    "\n",
    "llm = ChatOpenAI(temperature=0, model=\"gpt-4o-mini\").with_structured_output(\n",
    "    Classification\n",
    ")"
   ]
  },
  {
   "cell_type": "code",
   "execution_count": null,
   "id": "5170e301-ec10-4d29-989e-816dd7daf2f8",
   "metadata": {},
   "outputs": [],
   "source": [
    "comments[:5]"
   ]
  },
  {
   "cell_type": "code",
   "execution_count": null,
   "id": "451e144e-bb35-4cac-868a-58bd4a21db57",
   "metadata": {},
   "outputs": [],
   "source": [
    "res = llm.invoke(comments[:5]).model_dump()"
   ]
  },
  {
   "cell_type": "code",
   "execution_count": null,
   "id": "1b0157f1-b2a0-4005-b830-66a3cd04676d",
   "metadata": {},
   "outputs": [],
   "source": [
    "res"
   ]
  },
  {
   "cell_type": "code",
   "execution_count": null,
   "id": "3c0b5859-5f0f-4ef9-9d3f-66f75ca73e34",
   "metadata": {},
   "outputs": [],
   "source": [
    "chunk_size = 500"
   ]
  },
  {
   "cell_type": "code",
   "execution_count": null,
   "id": "335cfe29-1dd6-460b-9cd7-f1a512380792",
   "metadata": {},
   "outputs": [],
   "source": [
    "result = []\n",
    "\n",
    "for i in range(0, len(comments), chunk_size):\n",
    "    comments_chunk = comments[i:i + chunk_size] \n",
    "    prompt = tagging_prompt.invoke({\"comments\": comments_chunk}) \n",
    "    llm_result = llm.invoke(prompt).model_dump()\n",
    "    result.append(llm_result)"
   ]
  },
  {
   "cell_type": "code",
   "execution_count": null,
   "id": "34f289df-def3-41bb-8cf6-1cfa3071a25a",
   "metadata": {},
   "outputs": [],
   "source": [
    "result[0]"
   ]
  },
  {
   "cell_type": "markdown",
   "id": "1fcd7d20-b5a4-4998-b4c3-d059d4cd26a5",
   "metadata": {},
   "source": [
    "## Summarize the reviews"
   ]
  },
  {
   "cell_type": "code",
   "execution_count": null,
   "id": "e1e28c5e-b5f7-4871-a379-0bdba5fe45ca",
   "metadata": {},
   "outputs": [],
   "source": [
    "from langchain_core.documents import Document\n",
    "    \n",
    "pos_documents = [Document(page_content=' '.join(map(str, row['pos_comments']))) for row in result]\n",
    "\n",
    "neg_documents = [Document(page_content=' '.join(map(str, row['neg_comments']))) for row in result]\n",
    "\n",
    "suggestion_documents = [Document(page_content=' '.join(map(str, row['suggestions']))) for row in result ]\n",
    "\n"
   ]
  },
  {
   "cell_type": "code",
   "execution_count": null,
   "id": "d0e74311-bf0a-4345-895e-e5167d7ef48f",
   "metadata": {},
   "outputs": [],
   "source": [
    "pos_documents"
   ]
  },
  {
   "cell_type": "code",
   "execution_count": null,
   "id": "a49c9992-ff83-4248-a879-c3b204c17547",
   "metadata": {},
   "outputs": [],
   "source": [
    "from langchain.chains.combine_documents import create_stuff_documents_chain\n",
    "from langchain_core.prompts import ChatPromptTemplate\n",
    "\n",
    "prompt = ChatPromptTemplate.from_messages(\n",
    "    [(\"system\", \"Write a concise summary of the reviews:\\\\n\\\\n{context}\")]\n",
    ")\n",
    "llm = ChatOpenAI(temperature=0, model=\"gpt-4o-mini\")\n",
    "\n",
    "chain = create_stuff_documents_chain(llm, prompt)\n",
    "\n"
   ]
  },
  {
   "cell_type": "code",
   "execution_count": null,
   "id": "3d82bbd1-f034-4a6a-ad85-34a3f34febc4",
   "metadata": {},
   "outputs": [],
   "source": [
    "chain.invoke({\"context\": pos_documents})\n"
   ]
  },
  {
   "cell_type": "code",
   "execution_count": null,
   "id": "58e1c4c0-90a4-47f4-a87f-ed9933c73a8e",
   "metadata": {},
   "outputs": [],
   "source": [
    "chain.invoke({\"context\": neg_documents})\n"
   ]
  },
  {
   "cell_type": "code",
   "execution_count": null,
   "id": "8340230d-8083-417e-afe1-82b6e9a4bad9",
   "metadata": {},
   "outputs": [],
   "source": [
    "chain.invoke({\"context\": suggestion_documents})\n"
   ]
  }
 ],
 "metadata": {
  "kernelspec": {
   "display_name": "llm venv",
   "language": "python",
   "name": "llm_venv"
  },
  "language_info": {
   "codemirror_mode": {
    "name": "ipython",
    "version": 3
   },
   "file_extension": ".py",
   "mimetype": "text/x-python",
   "name": "python",
   "nbconvert_exporter": "python",
   "pygments_lexer": "ipython3",
   "version": "3.9.6"
  }
 },
 "nbformat": 4,
 "nbformat_minor": 5
}
